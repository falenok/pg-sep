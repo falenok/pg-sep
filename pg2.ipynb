{
  "cells": [
    {
      "cell_type": "code",
      "execution_count": 56,
      "id": "1aff7767-76db-4831-91c0-1ed4f3af6dd7",
      "metadata": {
        "id": "1aff7767-76db-4831-91c0-1ed4f3af6dd7"
      },
      "outputs": [],
      "source": [
        "import pandas as pd\n",
        "import numpy as np\n",
        "import matplotlib.pyplot as plt\n",
        "%matplotlib inline\n",
        "\n",
        "from sklearn.model_selection import train_test_split,cross_validate, GridSearchCV\n",
        "\n",
        "from sklearn.linear_model import LinearRegression,Lasso,Ridge,BayesianRidge\n",
        "from sklearn.ensemble import GradientBoostingRegressor, RandomForestRegressor\n",
        "\n",
        "\n",
        "\n",
        "import warnings\n",
        "warnings.filterwarnings(\"ignore\")\n",
        "\n",
        "\n",
        "from sklearn.pipeline import Pipeline\n",
        "from sklearn.ensemble import RandomForestClassifier\n",
        "from sklearn import linear_model\n",
        "from sklearn.neighbors import (NeighborhoodComponentsAnalysis, KNeighborsClassifier)\n",
        "from sklearn.naive_bayes import GaussianNB\n",
        "from sklearn.ensemble import GradientBoostingClassifier\n",
        "from sklearn.linear_model import LogisticRegression\n",
        "from sklearn import metrics"
      ]
    },
    {
      "cell_type": "code",
      "execution_count": 10,
      "id": "d39ddf20-b3fc-430b-8a84-a89148c0de52",
      "metadata": {
        "id": "d39ddf20-b3fc-430b-8a84-a89148c0de52"
      },
      "outputs": [],
      "source": [
        "df_train = pd.read_csv('/content/train.csv', index_col='id')\n",
        "df_test = pd.read_csv('/content/test.csv', index_col='id')\n",
        "sample_submission = pd.read_csv('/content/sample_submission.csv')"
      ]
    },
    {
      "cell_type": "code",
      "execution_count": 11,
      "id": "291df007-ac0a-4913-83bc-a1749aad9329",
      "metadata": {
        "id": "291df007-ac0a-4913-83bc-a1749aad9329"
      },
      "outputs": [],
      "source": [
        "df = pd.concat([df_train,df_test], axis=0)"
      ]
    },
    {
      "cell_type": "code",
      "source": [
        "df"
      ],
      "metadata": {
        "colab": {
          "base_uri": "https://localhost:8080/",
          "height": 519
        },
        "id": "07iFwAb9htRm",
        "outputId": "770c44f1-eb2b-4a08-dc09-a69928c65af8"
      },
      "id": "07iFwAb9htRm",
      "execution_count": 12,
      "outputs": [
        {
          "output_type": "execute_result",
          "data": {
            "text/plain": [
              "      product_code  loading attribute_0 attribute_1  attribute_2  attribute_3  \\\n",
              "id                                                                              \n",
              "0                A    80.10  material_7  material_8            9            5   \n",
              "1                A    84.89  material_7  material_8            9            5   \n",
              "2                A    82.43  material_7  material_8            9            5   \n",
              "3                A   101.07  material_7  material_8            9            5   \n",
              "4                A   188.06  material_7  material_8            9            5   \n",
              "...            ...      ...         ...         ...          ...          ...   \n",
              "47340            I   144.74  material_7  material_5            9            5   \n",
              "47341            I    74.53  material_7  material_5            9            5   \n",
              "47342            I    67.73  material_7  material_5            9            5   \n",
              "47343            I   126.15  material_7  material_5            9            5   \n",
              "47344            I    85.97  material_7  material_5            9            5   \n",
              "\n",
              "       measurement_0  measurement_1  measurement_2  measurement_3  ...  \\\n",
              "id                                                                 ...   \n",
              "0                  7              8              4         18.040  ...   \n",
              "1                 14              3              3         18.213  ...   \n",
              "2                 12              1              5         18.057  ...   \n",
              "3                 13              2              6         17.295  ...   \n",
              "4                  9              2              8         19.346  ...   \n",
              "...              ...            ...            ...            ...  ...   \n",
              "47340              0              4              9         18.465  ...   \n",
              "47341              4              8              7         18.900  ...   \n",
              "47342             10             11              2         18.656  ...   \n",
              "47343              8             16             11         16.536  ...   \n",
              "47344              0             11             11         18.373  ...   \n",
              "\n",
              "       measurement_9  measurement_10  measurement_11  measurement_12  \\\n",
              "id                                                                     \n",
              "0             10.672          15.859          17.594          15.193   \n",
              "1             12.448          17.947          17.915          11.755   \n",
              "2             12.715          15.607             NaN          13.798   \n",
              "3             12.471          16.346          18.377          10.020   \n",
              "4             10.337          17.082          19.932          12.428   \n",
              "...              ...             ...             ...             ...   \n",
              "47340         11.691             NaN          19.771          11.562   \n",
              "47341         10.980          16.027          15.694          13.564   \n",
              "47342         10.436          16.137          20.612          11.134   \n",
              "47343         12.672          15.422          19.496           9.319   \n",
              "47344          9.977          17.270          17.924          13.726   \n",
              "\n",
              "       measurement_13  measurement_14  measurement_15  measurement_16  \\\n",
              "id                                                                      \n",
              "0              15.029             NaN          13.034          14.684   \n",
              "1              14.732          15.425          14.395          15.631   \n",
              "2              16.711          18.631          14.094          17.946   \n",
              "3              15.250          15.562          16.154          17.172   \n",
              "4              16.182          12.760          13.153          16.412   \n",
              "...               ...             ...             ...             ...   \n",
              "47340          17.246          15.131          15.209             NaN   \n",
              "47341          15.494          15.296          13.812          16.501   \n",
              "47342          16.519          15.525          14.175          17.728   \n",
              "47343          15.817          17.403          16.437          15.179   \n",
              "47344          14.605          17.460          16.261          16.482   \n",
              "\n",
              "       measurement_17  failure  \n",
              "id                              \n",
              "0             764.100      0.0  \n",
              "1             682.057      0.0  \n",
              "2             663.376      0.0  \n",
              "3             826.282      0.0  \n",
              "4             579.885      0.0  \n",
              "...               ...      ...  \n",
              "47340         696.466      NaN  \n",
              "47341         613.249      NaN  \n",
              "47342         783.349      NaN  \n",
              "47343         745.210      NaN  \n",
              "47344         647.980      NaN  \n",
              "\n",
              "[47345 rows x 25 columns]"
            ],
            "text/html": [
              "\n",
              "  <div id=\"df-5ad2c4e2-2cdc-41d0-9086-1891510bb4ba\">\n",
              "    <div class=\"colab-df-container\">\n",
              "      <div>\n",
              "<style scoped>\n",
              "    .dataframe tbody tr th:only-of-type {\n",
              "        vertical-align: middle;\n",
              "    }\n",
              "\n",
              "    .dataframe tbody tr th {\n",
              "        vertical-align: top;\n",
              "    }\n",
              "\n",
              "    .dataframe thead th {\n",
              "        text-align: right;\n",
              "    }\n",
              "</style>\n",
              "<table border=\"1\" class=\"dataframe\">\n",
              "  <thead>\n",
              "    <tr style=\"text-align: right;\">\n",
              "      <th></th>\n",
              "      <th>product_code</th>\n",
              "      <th>loading</th>\n",
              "      <th>attribute_0</th>\n",
              "      <th>attribute_1</th>\n",
              "      <th>attribute_2</th>\n",
              "      <th>attribute_3</th>\n",
              "      <th>measurement_0</th>\n",
              "      <th>measurement_1</th>\n",
              "      <th>measurement_2</th>\n",
              "      <th>measurement_3</th>\n",
              "      <th>...</th>\n",
              "      <th>measurement_9</th>\n",
              "      <th>measurement_10</th>\n",
              "      <th>measurement_11</th>\n",
              "      <th>measurement_12</th>\n",
              "      <th>measurement_13</th>\n",
              "      <th>measurement_14</th>\n",
              "      <th>measurement_15</th>\n",
              "      <th>measurement_16</th>\n",
              "      <th>measurement_17</th>\n",
              "      <th>failure</th>\n",
              "    </tr>\n",
              "    <tr>\n",
              "      <th>id</th>\n",
              "      <th></th>\n",
              "      <th></th>\n",
              "      <th></th>\n",
              "      <th></th>\n",
              "      <th></th>\n",
              "      <th></th>\n",
              "      <th></th>\n",
              "      <th></th>\n",
              "      <th></th>\n",
              "      <th></th>\n",
              "      <th></th>\n",
              "      <th></th>\n",
              "      <th></th>\n",
              "      <th></th>\n",
              "      <th></th>\n",
              "      <th></th>\n",
              "      <th></th>\n",
              "      <th></th>\n",
              "      <th></th>\n",
              "      <th></th>\n",
              "      <th></th>\n",
              "    </tr>\n",
              "  </thead>\n",
              "  <tbody>\n",
              "    <tr>\n",
              "      <th>0</th>\n",
              "      <td>A</td>\n",
              "      <td>80.10</td>\n",
              "      <td>material_7</td>\n",
              "      <td>material_8</td>\n",
              "      <td>9</td>\n",
              "      <td>5</td>\n",
              "      <td>7</td>\n",
              "      <td>8</td>\n",
              "      <td>4</td>\n",
              "      <td>18.040</td>\n",
              "      <td>...</td>\n",
              "      <td>10.672</td>\n",
              "      <td>15.859</td>\n",
              "      <td>17.594</td>\n",
              "      <td>15.193</td>\n",
              "      <td>15.029</td>\n",
              "      <td>NaN</td>\n",
              "      <td>13.034</td>\n",
              "      <td>14.684</td>\n",
              "      <td>764.100</td>\n",
              "      <td>0.0</td>\n",
              "    </tr>\n",
              "    <tr>\n",
              "      <th>1</th>\n",
              "      <td>A</td>\n",
              "      <td>84.89</td>\n",
              "      <td>material_7</td>\n",
              "      <td>material_8</td>\n",
              "      <td>9</td>\n",
              "      <td>5</td>\n",
              "      <td>14</td>\n",
              "      <td>3</td>\n",
              "      <td>3</td>\n",
              "      <td>18.213</td>\n",
              "      <td>...</td>\n",
              "      <td>12.448</td>\n",
              "      <td>17.947</td>\n",
              "      <td>17.915</td>\n",
              "      <td>11.755</td>\n",
              "      <td>14.732</td>\n",
              "      <td>15.425</td>\n",
              "      <td>14.395</td>\n",
              "      <td>15.631</td>\n",
              "      <td>682.057</td>\n",
              "      <td>0.0</td>\n",
              "    </tr>\n",
              "    <tr>\n",
              "      <th>2</th>\n",
              "      <td>A</td>\n",
              "      <td>82.43</td>\n",
              "      <td>material_7</td>\n",
              "      <td>material_8</td>\n",
              "      <td>9</td>\n",
              "      <td>5</td>\n",
              "      <td>12</td>\n",
              "      <td>1</td>\n",
              "      <td>5</td>\n",
              "      <td>18.057</td>\n",
              "      <td>...</td>\n",
              "      <td>12.715</td>\n",
              "      <td>15.607</td>\n",
              "      <td>NaN</td>\n",
              "      <td>13.798</td>\n",
              "      <td>16.711</td>\n",
              "      <td>18.631</td>\n",
              "      <td>14.094</td>\n",
              "      <td>17.946</td>\n",
              "      <td>663.376</td>\n",
              "      <td>0.0</td>\n",
              "    </tr>\n",
              "    <tr>\n",
              "      <th>3</th>\n",
              "      <td>A</td>\n",
              "      <td>101.07</td>\n",
              "      <td>material_7</td>\n",
              "      <td>material_8</td>\n",
              "      <td>9</td>\n",
              "      <td>5</td>\n",
              "      <td>13</td>\n",
              "      <td>2</td>\n",
              "      <td>6</td>\n",
              "      <td>17.295</td>\n",
              "      <td>...</td>\n",
              "      <td>12.471</td>\n",
              "      <td>16.346</td>\n",
              "      <td>18.377</td>\n",
              "      <td>10.020</td>\n",
              "      <td>15.250</td>\n",
              "      <td>15.562</td>\n",
              "      <td>16.154</td>\n",
              "      <td>17.172</td>\n",
              "      <td>826.282</td>\n",
              "      <td>0.0</td>\n",
              "    </tr>\n",
              "    <tr>\n",
              "      <th>4</th>\n",
              "      <td>A</td>\n",
              "      <td>188.06</td>\n",
              "      <td>material_7</td>\n",
              "      <td>material_8</td>\n",
              "      <td>9</td>\n",
              "      <td>5</td>\n",
              "      <td>9</td>\n",
              "      <td>2</td>\n",
              "      <td>8</td>\n",
              "      <td>19.346</td>\n",
              "      <td>...</td>\n",
              "      <td>10.337</td>\n",
              "      <td>17.082</td>\n",
              "      <td>19.932</td>\n",
              "      <td>12.428</td>\n",
              "      <td>16.182</td>\n",
              "      <td>12.760</td>\n",
              "      <td>13.153</td>\n",
              "      <td>16.412</td>\n",
              "      <td>579.885</td>\n",
              "      <td>0.0</td>\n",
              "    </tr>\n",
              "    <tr>\n",
              "      <th>...</th>\n",
              "      <td>...</td>\n",
              "      <td>...</td>\n",
              "      <td>...</td>\n",
              "      <td>...</td>\n",
              "      <td>...</td>\n",
              "      <td>...</td>\n",
              "      <td>...</td>\n",
              "      <td>...</td>\n",
              "      <td>...</td>\n",
              "      <td>...</td>\n",
              "      <td>...</td>\n",
              "      <td>...</td>\n",
              "      <td>...</td>\n",
              "      <td>...</td>\n",
              "      <td>...</td>\n",
              "      <td>...</td>\n",
              "      <td>...</td>\n",
              "      <td>...</td>\n",
              "      <td>...</td>\n",
              "      <td>...</td>\n",
              "      <td>...</td>\n",
              "    </tr>\n",
              "    <tr>\n",
              "      <th>47340</th>\n",
              "      <td>I</td>\n",
              "      <td>144.74</td>\n",
              "      <td>material_7</td>\n",
              "      <td>material_5</td>\n",
              "      <td>9</td>\n",
              "      <td>5</td>\n",
              "      <td>0</td>\n",
              "      <td>4</td>\n",
              "      <td>9</td>\n",
              "      <td>18.465</td>\n",
              "      <td>...</td>\n",
              "      <td>11.691</td>\n",
              "      <td>NaN</td>\n",
              "      <td>19.771</td>\n",
              "      <td>11.562</td>\n",
              "      <td>17.246</td>\n",
              "      <td>15.131</td>\n",
              "      <td>15.209</td>\n",
              "      <td>NaN</td>\n",
              "      <td>696.466</td>\n",
              "      <td>NaN</td>\n",
              "    </tr>\n",
              "    <tr>\n",
              "      <th>47341</th>\n",
              "      <td>I</td>\n",
              "      <td>74.53</td>\n",
              "      <td>material_7</td>\n",
              "      <td>material_5</td>\n",
              "      <td>9</td>\n",
              "      <td>5</td>\n",
              "      <td>4</td>\n",
              "      <td>8</td>\n",
              "      <td>7</td>\n",
              "      <td>18.900</td>\n",
              "      <td>...</td>\n",
              "      <td>10.980</td>\n",
              "      <td>16.027</td>\n",
              "      <td>15.694</td>\n",
              "      <td>13.564</td>\n",
              "      <td>15.494</td>\n",
              "      <td>15.296</td>\n",
              "      <td>13.812</td>\n",
              "      <td>16.501</td>\n",
              "      <td>613.249</td>\n",
              "      <td>NaN</td>\n",
              "    </tr>\n",
              "    <tr>\n",
              "      <th>47342</th>\n",
              "      <td>I</td>\n",
              "      <td>67.73</td>\n",
              "      <td>material_7</td>\n",
              "      <td>material_5</td>\n",
              "      <td>9</td>\n",
              "      <td>5</td>\n",
              "      <td>10</td>\n",
              "      <td>11</td>\n",
              "      <td>2</td>\n",
              "      <td>18.656</td>\n",
              "      <td>...</td>\n",
              "      <td>10.436</td>\n",
              "      <td>16.137</td>\n",
              "      <td>20.612</td>\n",
              "      <td>11.134</td>\n",
              "      <td>16.519</td>\n",
              "      <td>15.525</td>\n",
              "      <td>14.175</td>\n",
              "      <td>17.728</td>\n",
              "      <td>783.349</td>\n",
              "      <td>NaN</td>\n",
              "    </tr>\n",
              "    <tr>\n",
              "      <th>47343</th>\n",
              "      <td>I</td>\n",
              "      <td>126.15</td>\n",
              "      <td>material_7</td>\n",
              "      <td>material_5</td>\n",
              "      <td>9</td>\n",
              "      <td>5</td>\n",
              "      <td>8</td>\n",
              "      <td>16</td>\n",
              "      <td>11</td>\n",
              "      <td>16.536</td>\n",
              "      <td>...</td>\n",
              "      <td>12.672</td>\n",
              "      <td>15.422</td>\n",
              "      <td>19.496</td>\n",
              "      <td>9.319</td>\n",
              "      <td>15.817</td>\n",
              "      <td>17.403</td>\n",
              "      <td>16.437</td>\n",
              "      <td>15.179</td>\n",
              "      <td>745.210</td>\n",
              "      <td>NaN</td>\n",
              "    </tr>\n",
              "    <tr>\n",
              "      <th>47344</th>\n",
              "      <td>I</td>\n",
              "      <td>85.97</td>\n",
              "      <td>material_7</td>\n",
              "      <td>material_5</td>\n",
              "      <td>9</td>\n",
              "      <td>5</td>\n",
              "      <td>0</td>\n",
              "      <td>11</td>\n",
              "      <td>11</td>\n",
              "      <td>18.373</td>\n",
              "      <td>...</td>\n",
              "      <td>9.977</td>\n",
              "      <td>17.270</td>\n",
              "      <td>17.924</td>\n",
              "      <td>13.726</td>\n",
              "      <td>14.605</td>\n",
              "      <td>17.460</td>\n",
              "      <td>16.261</td>\n",
              "      <td>16.482</td>\n",
              "      <td>647.980</td>\n",
              "      <td>NaN</td>\n",
              "    </tr>\n",
              "  </tbody>\n",
              "</table>\n",
              "<p>47345 rows × 25 columns</p>\n",
              "</div>\n",
              "      <button class=\"colab-df-convert\" onclick=\"convertToInteractive('df-5ad2c4e2-2cdc-41d0-9086-1891510bb4ba')\"\n",
              "              title=\"Convert this dataframe to an interactive table.\"\n",
              "              style=\"display:none;\">\n",
              "        \n",
              "  <svg xmlns=\"http://www.w3.org/2000/svg\" height=\"24px\"viewBox=\"0 0 24 24\"\n",
              "       width=\"24px\">\n",
              "    <path d=\"M0 0h24v24H0V0z\" fill=\"none\"/>\n",
              "    <path d=\"M18.56 5.44l.94 2.06.94-2.06 2.06-.94-2.06-.94-.94-2.06-.94 2.06-2.06.94zm-11 1L8.5 8.5l.94-2.06 2.06-.94-2.06-.94L8.5 2.5l-.94 2.06-2.06.94zm10 10l.94 2.06.94-2.06 2.06-.94-2.06-.94-.94-2.06-.94 2.06-2.06.94z\"/><path d=\"M17.41 7.96l-1.37-1.37c-.4-.4-.92-.59-1.43-.59-.52 0-1.04.2-1.43.59L10.3 9.45l-7.72 7.72c-.78.78-.78 2.05 0 2.83L4 21.41c.39.39.9.59 1.41.59.51 0 1.02-.2 1.41-.59l7.78-7.78 2.81-2.81c.8-.78.8-2.07 0-2.86zM5.41 20L4 18.59l7.72-7.72 1.47 1.35L5.41 20z\"/>\n",
              "  </svg>\n",
              "      </button>\n",
              "      \n",
              "  <style>\n",
              "    .colab-df-container {\n",
              "      display:flex;\n",
              "      flex-wrap:wrap;\n",
              "      gap: 12px;\n",
              "    }\n",
              "\n",
              "    .colab-df-convert {\n",
              "      background-color: #E8F0FE;\n",
              "      border: none;\n",
              "      border-radius: 50%;\n",
              "      cursor: pointer;\n",
              "      display: none;\n",
              "      fill: #1967D2;\n",
              "      height: 32px;\n",
              "      padding: 0 0 0 0;\n",
              "      width: 32px;\n",
              "    }\n",
              "\n",
              "    .colab-df-convert:hover {\n",
              "      background-color: #E2EBFA;\n",
              "      box-shadow: 0px 1px 2px rgba(60, 64, 67, 0.3), 0px 1px 3px 1px rgba(60, 64, 67, 0.15);\n",
              "      fill: #174EA6;\n",
              "    }\n",
              "\n",
              "    [theme=dark] .colab-df-convert {\n",
              "      background-color: #3B4455;\n",
              "      fill: #D2E3FC;\n",
              "    }\n",
              "\n",
              "    [theme=dark] .colab-df-convert:hover {\n",
              "      background-color: #434B5C;\n",
              "      box-shadow: 0px 1px 3px 1px rgba(0, 0, 0, 0.15);\n",
              "      filter: drop-shadow(0px 1px 2px rgba(0, 0, 0, 0.3));\n",
              "      fill: #FFFFFF;\n",
              "    }\n",
              "  </style>\n",
              "\n",
              "      <script>\n",
              "        const buttonEl =\n",
              "          document.querySelector('#df-5ad2c4e2-2cdc-41d0-9086-1891510bb4ba button.colab-df-convert');\n",
              "        buttonEl.style.display =\n",
              "          google.colab.kernel.accessAllowed ? 'block' : 'none';\n",
              "\n",
              "        async function convertToInteractive(key) {\n",
              "          const element = document.querySelector('#df-5ad2c4e2-2cdc-41d0-9086-1891510bb4ba');\n",
              "          const dataTable =\n",
              "            await google.colab.kernel.invokeFunction('convertToInteractive',\n",
              "                                                     [key], {});\n",
              "          if (!dataTable) return;\n",
              "\n",
              "          const docLinkHtml = 'Like what you see? Visit the ' +\n",
              "            '<a target=\"_blank\" href=https://colab.research.google.com/notebooks/data_table.ipynb>data table notebook</a>'\n",
              "            + ' to learn more about interactive tables.';\n",
              "          element.innerHTML = '';\n",
              "          dataTable['output_type'] = 'display_data';\n",
              "          await google.colab.output.renderOutput(dataTable, element);\n",
              "          const docLink = document.createElement('div');\n",
              "          docLink.innerHTML = docLinkHtml;\n",
              "          element.appendChild(docLink);\n",
              "        }\n",
              "      </script>\n",
              "    </div>\n",
              "  </div>\n",
              "  "
            ]
          },
          "metadata": {},
          "execution_count": 12
        }
      ]
    },
    {
      "cell_type": "code",
      "source": [
        "df.info()"
      ],
      "metadata": {
        "colab": {
          "base_uri": "https://localhost:8080/"
        },
        "id": "UsB6NHYpigyS",
        "outputId": "744e3dd2-54b2-4eee-97a1-4a9a6fc04792"
      },
      "id": "UsB6NHYpigyS",
      "execution_count": 7,
      "outputs": [
        {
          "output_type": "stream",
          "name": "stdout",
          "text": [
            "<class 'pandas.core.frame.DataFrame'>\n",
            "Int64Index: 47345 entries, 0 to 47344\n",
            "Data columns (total 25 columns):\n",
            " #   Column          Non-Null Count  Dtype  \n",
            "---  ------          --------------  -----  \n",
            " 0   product_code    47345 non-null  object \n",
            " 1   loading         46872 non-null  float64\n",
            " 2   attribute_0     47345 non-null  object \n",
            " 3   attribute_1     47345 non-null  object \n",
            " 4   attribute_2     47345 non-null  int64  \n",
            " 5   attribute_3     47345 non-null  int64  \n",
            " 6   measurement_0   47345 non-null  int64  \n",
            " 7   measurement_1   47345 non-null  int64  \n",
            " 8   measurement_2   47345 non-null  int64  \n",
            " 9   measurement_3   46635 non-null  float64\n",
            " 10  measurement_4   46398 non-null  float64\n",
            " 11  measurement_5   46161 non-null  float64\n",
            " 12  measurement_6   45925 non-null  float64\n",
            " 13  measurement_7   45688 non-null  float64\n",
            " 14  measurement_8   45451 non-null  float64\n",
            " 15  measurement_9   45214 non-null  float64\n",
            " 16  measurement_10  44978 non-null  float64\n",
            " 17  measurement_11  44741 non-null  float64\n",
            " 18  measurement_12  44504 non-null  float64\n",
            " 19  measurement_13  44268 non-null  float64\n",
            " 20  measurement_14  44031 non-null  float64\n",
            " 21  measurement_15  43794 non-null  float64\n",
            " 22  measurement_16  43557 non-null  float64\n",
            " 23  measurement_17  43321 non-null  float64\n",
            " 24  failure         26570 non-null  float64\n",
            "dtypes: float64(17), int64(5), object(3)\n",
            "memory usage: 9.4+ MB\n"
          ]
        }
      ]
    },
    {
      "cell_type": "code",
      "execution_count": 26,
      "id": "c1b918eb-d639-4ad7-909f-83f4c5de02c0",
      "metadata": {
        "colab": {
          "base_uri": "https://localhost:8080/"
        },
        "id": "c1b918eb-d639-4ad7-909f-83f4c5de02c0",
        "outputId": "6ce05c4b-9fc1-4d4e-931b-800842e29742"
      },
      "outputs": [
        {
          "output_type": "execute_result",
          "data": {
            "text/plain": [
              "product_code       0.000000\n",
              "loading            0.999050\n",
              "attribute_0        0.000000\n",
              "attribute_1        0.000000\n",
              "attribute_2        0.000000\n",
              "attribute_3        0.000000\n",
              "measurement_0      0.000000\n",
              "measurement_1      0.000000\n",
              "measurement_2      0.000000\n",
              "measurement_3      1.499630\n",
              "measurement_4      2.000211\n",
              "measurement_5      2.500792\n",
              "measurement_6      2.999261\n",
              "measurement_7      3.499842\n",
              "measurement_8      4.000422\n",
              "measurement_9      4.501003\n",
              "measurement_10     4.999472\n",
              "measurement_11     5.500053\n",
              "measurement_12     6.000634\n",
              "measurement_13     6.499102\n",
              "measurement_14     6.999683\n",
              "measurement_15     7.500264\n",
              "measurement_16     8.000845\n",
              "measurement_17     8.499314\n",
              "failure           43.880030\n",
              "dtype: float64"
            ]
          },
          "metadata": {},
          "execution_count": 26
        }
      ],
      "source": [
        "(df.isna().sum()/len(df))*100"
      ]
    },
    {
      "cell_type": "code",
      "source": [
        "num_feat = list(df.select_dtypes(include = [int,float]).columns)\n",
        "num_feat = num_feat[0:21]\n",
        "\n",
        "for col in num_feat:\n",
        "    df[col].fillna(df[col].mean(),inplace = True)"
      ],
      "metadata": {
        "id": "WXWem7gTrfJS"
      },
      "id": "WXWem7gTrfJS",
      "execution_count": 30,
      "outputs": []
    },
    {
      "cell_type": "code",
      "source": [
        "(df.isna().sum()/len(df))*100"
      ],
      "metadata": {
        "colab": {
          "base_uri": "https://localhost:8080/"
        },
        "id": "a9Z6dfMosYNU",
        "outputId": "6fb9a95b-5192-4e64-bf58-47e8cb763394"
      },
      "id": "a9Z6dfMosYNU",
      "execution_count": 31,
      "outputs": [
        {
          "output_type": "execute_result",
          "data": {
            "text/plain": [
              "product_code       0.00000\n",
              "loading            0.00000\n",
              "attribute_0        0.00000\n",
              "attribute_1        0.00000\n",
              "attribute_2        0.00000\n",
              "attribute_3        0.00000\n",
              "measurement_0      0.00000\n",
              "measurement_1      0.00000\n",
              "measurement_2      0.00000\n",
              "measurement_3      0.00000\n",
              "measurement_4      0.00000\n",
              "measurement_5      0.00000\n",
              "measurement_6      0.00000\n",
              "measurement_7      0.00000\n",
              "measurement_8      0.00000\n",
              "measurement_9      0.00000\n",
              "measurement_10     0.00000\n",
              "measurement_11     0.00000\n",
              "measurement_12     0.00000\n",
              "measurement_13     0.00000\n",
              "measurement_14     0.00000\n",
              "measurement_15     0.00000\n",
              "measurement_16     0.00000\n",
              "measurement_17     0.00000\n",
              "failure           43.88003\n",
              "dtype: float64"
            ]
          },
          "metadata": {},
          "execution_count": 31
        }
      ]
    },
    {
      "cell_type": "code",
      "source": [
        "print(df['attribute_0'].unique())\n",
        "print(df['attribute_1'].unique())"
      ],
      "metadata": {
        "colab": {
          "base_uri": "https://localhost:8080/"
        },
        "id": "nxXgDi1fsclz",
        "outputId": "64c239e3-2545-415e-c212-2af80bdb1c96"
      },
      "id": "nxXgDi1fsclz",
      "execution_count": 35,
      "outputs": [
        {
          "output_type": "stream",
          "name": "stdout",
          "text": [
            "['material_7' 'material_5']\n",
            "['material_8' 'material_5' 'material_6' 'material_7']\n"
          ]
        }
      ]
    },
    {
      "cell_type": "code",
      "source": [
        "df['attribute_0'][df['failure']==1].value_counts()"
      ],
      "metadata": {
        "colab": {
          "base_uri": "https://localhost:8080/"
        },
        "id": "ZHEADqFGud-n",
        "outputId": "c25d0229-2440-43e6-9996-320d850b2a72"
      },
      "id": "ZHEADqFGud-n",
      "execution_count": 36,
      "outputs": [
        {
          "output_type": "execute_result",
          "data": {
            "text/plain": [
              "material_7    4597\n",
              "material_5    1052\n",
              "Name: attribute_0, dtype: int64"
            ]
          },
          "metadata": {},
          "execution_count": 36
        }
      ]
    },
    {
      "cell_type": "code",
      "source": [
        "df['attribute_0'][df['failure']==0].value_counts()\n",
        "  "
      ],
      "metadata": {
        "colab": {
          "base_uri": "https://localhost:8080/"
        },
        "id": "LiWWCzrcuhir",
        "outputId": "f4ea2f33-41fd-4727-cb42-cf9c0b64fadb"
      },
      "id": "LiWWCzrcuhir",
      "execution_count": 39,
      "outputs": [
        {
          "output_type": "execute_result",
          "data": {
            "text/plain": [
              "material_7    16723\n",
              "material_5     4198\n",
              "Name: attribute_0, dtype: int64"
            ]
          },
          "metadata": {},
          "execution_count": 39
        }
      ]
    },
    {
      "cell_type": "code",
      "source": [
        "print(16723/(16723+4597))\n",
        "print(4198/(4198+1052))"
      ],
      "metadata": {
        "colab": {
          "base_uri": "https://localhost:8080/"
        },
        "id": "HUzMcAXuu4Cc",
        "outputId": "72c50990-4c82-4711-de00-0f7ad93b48b2"
      },
      "id": "HUzMcAXuu4Cc",
      "execution_count": 40,
      "outputs": [
        {
          "output_type": "stream",
          "name": "stdout",
          "text": [
            "0.7843808630393996\n",
            "0.7996190476190477\n"
          ]
        }
      ]
    },
    {
      "cell_type": "markdown",
      "source": [
        "Принципиальной разницы практически нет, поэтому просто закодируем material_7 как 7, material_5 как 5"
      ],
      "metadata": {
        "id": "XVcrk8povD7t"
      },
      "id": "XVcrk8povD7t"
    },
    {
      "cell_type": "code",
      "execution_count": 41,
      "id": "b1402442-2628-43b6-a15e-80a7d2a5854b",
      "metadata": {
        "id": "b1402442-2628-43b6-a15e-80a7d2a5854b"
      },
      "outputs": [],
      "source": [
        "df['attribute_0'] = df['attribute_0'].apply(lambda x: 7 if x =='material_7' else 5)"
      ]
    },
    {
      "cell_type": "code",
      "source": [
        "df['attribute_1'].unique()"
      ],
      "metadata": {
        "colab": {
          "base_uri": "https://localhost:8080/"
        },
        "id": "BkWDj6Vwv8s9",
        "outputId": "26de1d39-fcb9-4837-bb4f-10deac8e7d1d"
      },
      "id": "BkWDj6Vwv8s9",
      "execution_count": 42,
      "outputs": [
        {
          "output_type": "execute_result",
          "data": {
            "text/plain": [
              "array(['material_8', 'material_5', 'material_6', 'material_7'],\n",
              "      dtype=object)"
            ]
          },
          "metadata": {},
          "execution_count": 42
        }
      ]
    },
    {
      "cell_type": "code",
      "execution_count": 44,
      "id": "50cfdf3c-5851-4061-b0b6-32c1c16c0125",
      "metadata": {
        "id": "50cfdf3c-5851-4061-b0b6-32c1c16c0125"
      },
      "outputs": [],
      "source": [
        "df['attribute_1'] = df['attribute_1'].apply(lambda x: rep_func(x))"
      ]
    },
    {
      "cell_type": "code",
      "execution_count": 43,
      "id": "a3669e50-6054-4b01-a928-fb6d240af82b",
      "metadata": {
        "id": "a3669e50-6054-4b01-a928-fb6d240af82b"
      },
      "outputs": [],
      "source": [
        "def rep_func(x):\n",
        "    if x == 'material_7':\n",
        "        x=7\n",
        "        return x\n",
        "    elif x =='material_5':\n",
        "        x=5\n",
        "        return x\n",
        "    elif x=='material_6':\n",
        "        x=6\n",
        "        return x\n",
        "    else:\n",
        "        x=8\n",
        "        return x"
      ]
    },
    {
      "cell_type": "code",
      "execution_count": 45,
      "id": "cdfc8d04-615e-4948-9274-71b9a8f1eb64",
      "metadata": {
        "colab": {
          "base_uri": "https://localhost:8080/"
        },
        "id": "cdfc8d04-615e-4948-9274-71b9a8f1eb64",
        "outputId": "8c78b237-084c-49c6-8614-352ceda0e6e7"
      },
      "outputs": [
        {
          "output_type": "execute_result",
          "data": {
            "text/plain": [
              "array([8, 5, 6, 7])"
            ]
          },
          "metadata": {},
          "execution_count": 45
        }
      ],
      "source": [
        "df['attribute_1'].unique()"
      ]
    },
    {
      "cell_type": "code",
      "execution_count": null,
      "id": "10c7472a-f45c-4c0d-8159-cd0adbefb6de",
      "metadata": {
        "id": "10c7472a-f45c-4c0d-8159-cd0adbefb6de"
      },
      "outputs": [],
      "source": [
        "# в атрибуте 0  5 и 8  одинаковы, но 6 сильно лучше"
      ]
    },
    {
      "cell_type": "code",
      "execution_count": 47,
      "id": "005c012e-a5b7-4335-a421-52a86bfb0e69",
      "metadata": {
        "id": "005c012e-a5b7-4335-a421-52a86bfb0e69"
      },
      "outputs": [],
      "source": [
        "# ранжируем атрибут 1, по убыванию: 6,8,5,7\n",
        "def at_1_range(x):\n",
        "    if x == 6:\n",
        "      x=2\n",
        "      return x\n",
        "    else:\n",
        "      x=1.5\n",
        "      return x"
      ]
    },
    {
      "cell_type": "code",
      "execution_count": 48,
      "id": "86d4881d-dc4c-4196-993c-dda598e01e49",
      "metadata": {
        "id": "86d4881d-dc4c-4196-993c-dda598e01e49"
      },
      "outputs": [],
      "source": [
        "df['attribute_1'] = df['attribute_1'].apply(lambda x: at_1_range(x))"
      ]
    },
    {
      "cell_type": "code",
      "execution_count": 49,
      "id": "9a288e26-8928-4aa8-83dd-28158a895c2a",
      "metadata": {
        "colab": {
          "base_uri": "https://localhost:8080/"
        },
        "id": "9a288e26-8928-4aa8-83dd-28158a895c2a",
        "outputId": "3f1b70b9-503f-419a-9364-2d4603c01c35"
      },
      "outputs": [
        {
          "output_type": "execute_result",
          "data": {
            "text/plain": [
              "6    0.787853\n",
              "5    0.788378\n",
              "8    0.799619\n",
              "9    0.772745\n",
              "Name: attribute_2, dtype: float64"
            ]
          },
          "metadata": {},
          "execution_count": 49
        }
      ],
      "source": [
        "df_train['attribute_2'][df_train['failure']==0].value_counts()/df_train['attribute_2'].value_counts()"
      ]
    },
    {
      "cell_type": "code",
      "execution_count": 50,
      "id": "7cf69982-36e4-4532-b32a-cf35e1f27a08",
      "metadata": {
        "id": "7cf69982-36e4-4532-b32a-cf35e1f27a08"
      },
      "outputs": [],
      "source": [
        "# в атрибуте 2 никакой разницы нет, но все равно стандартизируем\n",
        "def at_2_range(x):\n",
        "    if x == 6:\n",
        "        x=1.5\n",
        "        return x\n",
        "    elif x ==8:\n",
        "        x=1.7\n",
        "        return x\n",
        "    elif x==6:\n",
        "        x=1.6\n",
        "        return x\n",
        "    else:\n",
        "        x=1.4\n",
        "        return x"
      ]
    },
    {
      "cell_type": "code",
      "execution_count": 51,
      "id": "2cc43a22-b495-4a28-ae7a-18c3cca3e671",
      "metadata": {
        "id": "2cc43a22-b495-4a28-ae7a-18c3cca3e671"
      },
      "outputs": [],
      "source": [
        "df['attribute_2'] = df['attribute_2'].apply(lambda x: at_2_range(x))"
      ]
    },
    {
      "cell_type": "code",
      "execution_count": null,
      "id": "66626718-c3ad-4a02-8ddb-33e0bd3cf339",
      "metadata": {
        "id": "66626718-c3ad-4a02-8ddb-33e0bd3cf339",
        "outputId": "0c2acad0-042d-42f0-8204-b6c6b954402c"
      },
      "outputs": [
        {
          "data": {
            "text/plain": [
              "8    0.793736\n",
              "9    0.793000\n",
              "6    0.782473\n",
              "5    0.772745\n",
              "Name: attribute_3, dtype: float64"
            ]
          },
          "execution_count": 158,
          "metadata": {},
          "output_type": "execute_result"
        }
      ],
      "source": [
        "df_train['attribute_3'][df_train['failure']==0].value_counts()/df_train['attribute_3'].value_counts()"
      ]
    },
    {
      "cell_type": "code",
      "execution_count": 52,
      "id": "c999cc90-ace0-4c1e-872b-f2d9c9d9ac80",
      "metadata": {
        "id": "c999cc90-ace0-4c1e-872b-f2d9c9d9ac80"
      },
      "outputs": [],
      "source": [
        "def at_3_range(x):\n",
        "    if x == 9:\n",
        "        x=1.7\n",
        "        return x\n",
        "    elif x ==8:\n",
        "        x=1.7\n",
        "        return x\n",
        "    elif x==6:\n",
        "        x=1.6\n",
        "        return x\n",
        "    else:\n",
        "        x=1.5\n",
        "        return x"
      ]
    },
    {
      "cell_type": "code",
      "execution_count": 53,
      "id": "f53f8879-0539-49bf-b45c-b67d3cff0816",
      "metadata": {
        "id": "f53f8879-0539-49bf-b45c-b67d3cff0816"
      },
      "outputs": [],
      "source": [
        "df['attribute_3'] = df['attribute_3'].apply(lambda x: at_3_range(x))"
      ]
    },
    {
      "cell_type": "code",
      "execution_count": 54,
      "id": "4d16587a-f3d7-4875-97d5-ecec788d8074",
      "metadata": {
        "colab": {
          "base_uri": "https://localhost:8080/"
        },
        "id": "4d16587a-f3d7-4875-97d5-ecec788d8074",
        "outputId": "3131fa0b-45f4-4cf5-911c-794ca04a05da"
      },
      "outputs": [
        {
          "output_type": "stream",
          "name": "stdout",
          "text": [
            "(26570, 25)\n",
            "(20775, 25)\n"
          ]
        }
      ],
      "source": [
        "# ранжировали атрибуты, пробуем запустить в модель, пустые данные так же заменены нулями\n",
        "df3_train = df[df[\"failure\"].notna()]\n",
        "df3_test = df[df[\"failure\"].isna()]\n",
        "\n",
        "print(df3_train.shape)\n",
        "print(df3_test.shape)"
      ]
    },
    {
      "cell_type": "code",
      "execution_count": 55,
      "id": "690ee326-9346-455f-a6d7-dd7481181db1",
      "metadata": {
        "id": "690ee326-9346-455f-a6d7-dd7481181db1"
      },
      "outputs": [],
      "source": [
        "X = df3_train.drop(['failure','product_code'], axis=1)\n",
        "y = df3_train['failure']\n",
        "\n",
        "X_train, X_test, y_train, y_test = train_test_split(X, y)"
      ]
    },
    {
      "cell_type": "code",
      "execution_count": 58,
      "id": "784d60b8-5b37-4c2e-b26e-3051d4770026",
      "metadata": {
        "colab": {
          "base_uri": "https://localhost:8080/"
        },
        "id": "784d60b8-5b37-4c2e-b26e-3051d4770026",
        "outputId": "b168ad2b-367f-44d5-cd07-b6e80069a62b"
      },
      "outputs": [
        {
          "output_type": "stream",
          "name": "stdout",
          "text": [
            "Fitting 5 folds for each of 6 candidates, totalling 30 fits\n"
          ]
        }
      ],
      "source": [
        "pipe = Pipeline([('classifier', LogisticRegression())])\n",
        "\n",
        "\n",
        "param_grid = [\n",
        "    {'classifier' : [LogisticRegression()]\n",
        "    },\n",
        "    {'classifier' : [RandomForestClassifier()]\n",
        "    },\n",
        "    {'classifier' : [linear_model.LassoLars()]\n",
        "    },\n",
        "    {'classifier' : [KNeighborsClassifier()]\n",
        "    },\n",
        "    {'classifier' : [GaussianNB()]\n",
        "    },\n",
        "    {'classifier' : [GradientBoostingClassifier()]\n",
        "    }\n",
        "]\n",
        "\n",
        "\n",
        "\n",
        "clf = GridSearchCV(pipe, param_grid = param_grid, cv = 5, verbose=True, n_jobs=-1, scoring='roc_auc')\n",
        "\n",
        "\n",
        "\n",
        "best_clf = clf.fit(X_train, y_train)"
      ]
    },
    {
      "cell_type": "code",
      "execution_count": 61,
      "id": "6a5b5f36-5383-40f6-9f9c-ae0a8e2c9565",
      "metadata": {
        "colab": {
          "base_uri": "https://localhost:8080/"
        },
        "id": "6a5b5f36-5383-40f6-9f9c-ae0a8e2c9565",
        "outputId": "9f10c13f-069a-4ab1-94b1-d526be88ae3c"
      },
      "outputs": [
        {
          "output_type": "execute_result",
          "data": {
            "text/plain": [
              "Pipeline(steps=[('classifier', LogisticRegression())])"
            ]
          },
          "metadata": {},
          "execution_count": 61
        }
      ],
      "source": [
        "best_clf.best_estimator_"
      ]
    },
    {
      "cell_type": "code",
      "source": [
        "best_clf.best_score_"
      ],
      "metadata": {
        "colab": {
          "base_uri": "https://localhost:8080/"
        },
        "id": "lya9T-E6zrGc",
        "outputId": "b05c328b-f9a1-410f-8ac5-ca0047183e14"
      },
      "id": "lya9T-E6zrGc",
      "execution_count": 59,
      "outputs": [
        {
          "output_type": "execute_result",
          "data": {
            "text/plain": [
              "0.5892988086364997"
            ]
          },
          "metadata": {},
          "execution_count": 59
        }
      ]
    },
    {
      "cell_type": "code",
      "execution_count": null,
      "id": "f489a41d-d258-479e-809b-50daefc20af4",
      "metadata": {
        "id": "f489a41d-d258-479e-809b-50daefc20af4"
      },
      "outputs": [],
      "source": [
        "lr = LogisticRegression()\n",
        "\n",
        "lr.fit(X_train, y_train)\n",
        "\n",
        "y_predict = lr.predict(X_test)\n",
        "  \n",
        "\n",
        "print(\"ROC-AUC %.3f\" %metrics.roc_auc_score(y_test, y_predict))"
      ]
    },
    {
      "cell_type": "code",
      "execution_count": null,
      "id": "5b404321-7d16-4273-a2ea-136a2c9d4a4e",
      "metadata": {
        "tags": [],
        "id": "5b404321-7d16-4273-a2ea-136a2c9d4a4e"
      },
      "outputs": [],
      "source": [
        "sub_redict = lr.predict_proba(df3_test.drop(['failure','product_code'], axis=1))[:, 1]\n",
        "\n",
        "\n",
        "sample_submission['failure'] = sub_redict\n",
        "sample_submission.to_csv('submission_lr1.csv', index = False)"
      ]
    }
  ],
  "metadata": {
    "kernelspec": {
      "display_name": "Python 3 (ipykernel)",
      "language": "python",
      "name": "python3"
    },
    "language_info": {
      "codemirror_mode": {
        "name": "ipython",
        "version": 3
      },
      "file_extension": ".py",
      "mimetype": "text/x-python",
      "name": "python",
      "nbconvert_exporter": "python",
      "pygments_lexer": "ipython3",
      "version": "3.10.4"
    },
    "colab": {
      "provenance": []
    }
  },
  "nbformat": 4,
  "nbformat_minor": 5
}